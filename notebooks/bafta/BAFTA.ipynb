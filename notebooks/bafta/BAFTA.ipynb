{
 "cells": [
  {
   "cell_type": "code",
   "execution_count": null,
   "metadata": {},
   "outputs": [],
   "source": [
    "import pandas as pd\n",
    "import requests\n",
    "\n",
    "from bs4 import BeautifulSoup"
   ]
  },
  {
   "cell_type": "code",
   "execution_count": null,
   "metadata": {},
   "outputs": [],
   "source": [
    "data = []\n",
    "url = 'http://awards.bafta.org/award/{year}/film'"
   ]
  },
  {
   "cell_type": "code",
   "execution_count": null,
   "metadata": {},
   "outputs": [],
   "source": [
    "years = range(1949, 2021)\n",
    "for year in years:\n",
    "    print(year)\n",
    "    request = requests.get(url.format(year=year))\n",
    "    soup = BeautifulSoup(request.content, 'html.parser')\n",
    "    nomination = soup.find('div', class_='view-content').find_all('li', class_='search-result-wrapper')\n",
    "    for nominee in nomination:\n",
    "        category = nominee.h2.text\n",
    "        title = nominee.find_all('div', class_='search-result-headline')\n",
    "        workers = nominee.find_all('div', class_='search-result-subtitle')\n",
    "\n",
    "        for title, workers in zip(title, workers):\n",
    "            title_ = title.text.strip()\n",
    "            if title_ == '':\n",
    "                continue\n",
    "            else:\n",
    "                workers = workers.text.strip()\n",
    "\n",
    "                winner = False\n",
    "                if title.find('img'):\n",
    "                    winner = True\n",
    "\n",
    "                data.append([year, category, title_, workers, winner])"
   ]
  },
  {
   "cell_type": "code",
   "execution_count": null,
   "metadata": {},
   "outputs": [],
   "source": [
    "df = pd.DataFrame(data, columns=['year', 'category', 'nominee', 'workers', 'winner'])"
   ]
  },
  {
   "cell_type": "code",
   "execution_count": null,
   "metadata": {},
   "outputs": [],
   "source": [
    "df.head()"
   ]
  },
  {
   "cell_type": "code",
   "execution_count": null,
   "metadata": {},
   "outputs": [],
   "source": [
    "df.to_csv('data/bafta_films.csv', index=False)"
   ]
  },
  {
   "cell_type": "code",
   "execution_count": null,
   "metadata": {},
   "outputs": [],
   "source": []
  }
 ],
 "metadata": {
  "kernelspec": {
   "display_name": "Python 3",
   "language": "python",
   "name": "python3"
  },
  "language_info": {
   "codemirror_mode": {
    "name": "ipython",
    "version": 3
   },
   "file_extension": ".py",
   "mimetype": "text/x-python",
   "name": "python",
   "nbconvert_exporter": "python",
   "pygments_lexer": "ipython3",
   "version": "3.7.4"
  }
 },
 "nbformat": 4,
 "nbformat_minor": 4
}
