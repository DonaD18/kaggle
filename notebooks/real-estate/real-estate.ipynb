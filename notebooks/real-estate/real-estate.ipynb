{
 "cells": [
  {
   "cell_type": "code",
   "execution_count": 1,
   "metadata": {},
   "outputs": [],
   "source": [
    "import pandas as pd\n",
    "\n",
    "from bs4 import BeautifulSoup\n",
    "from selenium import webdriver\n",
    "from selenium.webdriver.common.keys import Keys\n",
    "from selenium.webdriver.support.ui import WebDriverWait"
   ]
  },
  {
   "cell_type": "code",
   "execution_count": 50,
   "metadata": {},
   "outputs": [],
   "source": [
    "columns = ['coordinate', 'address', 'city', 'state', 'postal_code', \n",
    "           'ad_type', 'description', 'beds', 'bath', 'sqr_lot', 'sqft', \n",
    "           'year', 'style', 'property_type', 'price', 'currency']\n",
    "cities = ['San-Francisco_CA', 'New-York_NY', 'Orlando_FL']\n",
    "page = 1\n",
    "cursor = [page, 0]\n",
    "data = []\n",
    "base_url = 'https://www.realtor.com'\n",
    "base_search = 'https://www.realtor.com/realestateandhomes-search/New-York_NY/pg-{page}'\n",
    "options = webdriver.ChromeOptions()\n",
    "options.add_experimental_option('prefs', {'intl.accept_languages': 'en, en_US'})"
   ]
  },
  {
   "cell_type": "code",
   "execution_count": 3,
   "metadata": {},
   "outputs": [
    {
     "name": "stderr",
     "output_type": "stream",
     "text": [
      "c:\\users\\raphael.fontes\\projetos\\kaggle\\.venv\\lib\\site-packages\\ipykernel_launcher.py:1: DeprecationWarning: use options instead of chrome_options\n",
      "  \"\"\"Entry point for launching an IPython kernel.\n"
     ]
    }
   ],
   "source": [
    "driver = webdriver.Chrome('../../drivers/chromedriver', chrome_options=options)"
   ]
  },
  {
   "cell_type": "code",
   "execution_count": 65,
   "metadata": {
    "scrolled": true
   },
   "outputs": [
    {
     "ename": "TypeError",
     "evalue": "'NoneType' object is not subscriptable",
     "output_type": "error",
     "traceback": [
      "\u001b[1;31m------------------------------------------------------------------\u001b[0m",
      "\u001b[1;31mTypeError\u001b[0m                        Traceback (most recent call last)",
      "\u001b[1;32m<ipython-input-65-fa55b76ce7bb>\u001b[0m in \u001b[0;36m<module>\u001b[1;34m\u001b[0m\n\u001b[0;32m     17\u001b[0m                 \u001b[0msoup\u001b[0m \u001b[1;33m=\u001b[0m \u001b[0mBeautifulSoup\u001b[0m\u001b[1;33m(\u001b[0m\u001b[0mpage_source\u001b[0m\u001b[1;33m)\u001b[0m\u001b[1;33m\u001b[0m\u001b[1;33m\u001b[0m\u001b[0m\n\u001b[0;32m     18\u001b[0m \u001b[1;33m\u001b[0m\u001b[0m\n\u001b[1;32m---> 19\u001b[1;33m                 \u001b[0mlat\u001b[0m \u001b[1;33m=\u001b[0m \u001b[0msoup\u001b[0m\u001b[1;33m.\u001b[0m\u001b[0mfind\u001b[0m\u001b[1;33m(\u001b[0m\u001b[1;34m'meta'\u001b[0m\u001b[1;33m,\u001b[0m \u001b[0mproperty\u001b[0m\u001b[1;33m=\u001b[0m\u001b[1;34m'place:location:latitude'\u001b[0m\u001b[1;33m)\u001b[0m\u001b[1;33m[\u001b[0m\u001b[1;34m'content'\u001b[0m\u001b[1;33m]\u001b[0m\u001b[1;33m\u001b[0m\u001b[1;33m\u001b[0m\u001b[0m\n\u001b[0m\u001b[0;32m     20\u001b[0m                 \u001b[0mlog\u001b[0m \u001b[1;33m=\u001b[0m \u001b[0msoup\u001b[0m\u001b[1;33m.\u001b[0m\u001b[0mfind\u001b[0m\u001b[1;33m(\u001b[0m\u001b[1;34m'meta'\u001b[0m\u001b[1;33m,\u001b[0m \u001b[0mproperty\u001b[0m\u001b[1;33m=\u001b[0m\u001b[1;34m'place:location:longitude'\u001b[0m\u001b[1;33m)\u001b[0m\u001b[1;33m[\u001b[0m\u001b[1;34m'content'\u001b[0m\u001b[1;33m]\u001b[0m\u001b[1;33m\u001b[0m\u001b[1;33m\u001b[0m\u001b[0m\n\u001b[0;32m     21\u001b[0m                 \u001b[0mcoordinate\u001b[0m \u001b[1;33m=\u001b[0m \u001b[1;33m(\u001b[0m\u001b[0mlat\u001b[0m\u001b[1;33m,\u001b[0m \u001b[0mlog\u001b[0m\u001b[1;33m)\u001b[0m\u001b[1;33m\u001b[0m\u001b[1;33m\u001b[0m\u001b[0m\n",
      "\u001b[1;31mTypeError\u001b[0m: 'NoneType' object is not subscriptable"
     ]
    }
   ],
   "source": [
    "# cursor[0] += 1\n",
    "# cursor[1] = 0\n",
    "while True:\n",
    "    driver.get(base_search.format(page=cursor[0]))\n",
    "    html = driver.page_source\n",
    "    soup = BeautifulSoup(html)\n",
    "    properties = soup.find_all('li', class_='component_property-card')\n",
    "    if properties:\n",
    "        for i, property_ in enumerate(properties[cursor[1]:]):\n",
    "            try:\n",
    "                url = f\"{base_url}{property_.a['href']}\"\n",
    "            except:\n",
    "                continue\n",
    "            else:\n",
    "                driver.get(url)\n",
    "                page_source = driver.page_source\n",
    "                soup = BeautifulSoup(page_source)\n",
    "\n",
    "                lat = soup.find('meta', property='place:location:latitude')['content']\n",
    "                log = soup.find('meta', property='place:location:longitude')['content']\n",
    "                coordinate = (lat, log)\n",
    "\n",
    "                address = soup.find('meta', property='og:street-address')['content']\n",
    "                city = soup.find('meta', property='og:locality')['content']\n",
    "                state = soup.find('meta', property='og:region')['content']\n",
    "                postal_code = soup.find('meta', property='og:postal-code')['content']\n",
    "                type_ = soup.find('meta', property='og:type')['content']\n",
    "                description = soup.find('meta', property='og:description')['content']\n",
    "                price = soup.find(class_='ldp-header-price').span.text.replace('\\n', '').strip()\n",
    "                \n",
    "                try:\n",
    "                    currency = soup.find(id='priceCurrency')['value']\n",
    "                except:\n",
    "                    currency = None\n",
    "\n",
    "                property_meta = soup.find('ul', class_='property-meta')\n",
    "                try:\n",
    "                    beds = property_meta.select('li[data-label=property-meta-beds]')[0].span.text\n",
    "                except:\n",
    "                    beds = None\n",
    "                \n",
    "                try:\n",
    "                    bath = property_meta.select('li[data-label=property-meta-bath]')[0].span.text\n",
    "                except:\n",
    "                    bath = None\n",
    "                \n",
    "                try:\n",
    "                    sqft = property_meta.select('li[data-label=property-meta-sqft]')[0].span.text\n",
    "                except:\n",
    "                    sqft = None\n",
    "                \n",
    "                try:\n",
    "                    sqr_lot = property_meta.select('li[data-label=property-meta-lotsize]')[0].span.text\n",
    "                except:\n",
    "                    sqr_lot = None\n",
    "\n",
    "                try:\n",
    "                    property_year = soup.select('li[data-label=property-year]')[0].text.replace('\\n', ' ').strip()\n",
    "                except: \n",
    "                    property_year = None\n",
    "                \n",
    "                try:\n",
    "                    property_style = soup.find_all('li', class_='ldp-key-fact-item')[-1].text.replace('\\n', ' ').strip()\n",
    "                except:\n",
    "                    property_style = None\n",
    "                \n",
    "                try:\n",
    "                    property_type = soup.select('li[data-label=property-type]')[0].text.replace('\\n', ' ').strip()\n",
    "                except: \n",
    "                    property_type = None\n",
    "                    \n",
    "                data.append([coordinate, address, city, state, postal_code, type_, description, beds, \n",
    "                             bath, sqr_lot, sqft, property_year, property_style, property_type, price, currency])\n",
    "                \n",
    "                cursor[1] = i + 1\n",
    "                \n",
    "        cursor[0] += 1\n",
    "        cursor[1] = 0\n",
    "    else:\n",
    "        break"
   ]
  },
  {
   "cell_type": "code",
   "execution_count": 46,
   "metadata": {},
   "outputs": [],
   "source": [
    "df = pd.DataFrame(data, columns=columns)"
   ]
  },
  {
   "cell_type": "code",
   "execution_count": 47,
   "metadata": {},
   "outputs": [
    {
     "data": {
      "text/html": [
       "<div>\n",
       "<style scoped>\n",
       "    .dataframe tbody tr th:only-of-type {\n",
       "        vertical-align: middle;\n",
       "    }\n",
       "\n",
       "    .dataframe tbody tr th {\n",
       "        vertical-align: top;\n",
       "    }\n",
       "\n",
       "    .dataframe thead th {\n",
       "        text-align: right;\n",
       "    }\n",
       "</style>\n",
       "<table border=\"1\" class=\"dataframe\">\n",
       "  <thead>\n",
       "    <tr style=\"text-align: right;\">\n",
       "      <th></th>\n",
       "      <th>coordinate</th>\n",
       "      <th>address</th>\n",
       "      <th>city</th>\n",
       "      <th>state</th>\n",
       "      <th>postal_code</th>\n",
       "      <th>ad_type</th>\n",
       "      <th>description</th>\n",
       "      <th>beds</th>\n",
       "      <th>bath</th>\n",
       "      <th>sqr_lot</th>\n",
       "      <th>sqft</th>\n",
       "      <th>year</th>\n",
       "      <th>style</th>\n",
       "      <th>property_type</th>\n",
       "      <th>price</th>\n",
       "      <th>currency</th>\n",
       "    </tr>\n",
       "  </thead>\n",
       "  <tbody>\n",
       "    <tr>\n",
       "      <th>0</th>\n",
       "      <td>(37.727131, -122.426165)</td>\n",
       "      <td>89 Naples St</td>\n",
       "      <td>San Francisco</td>\n",
       "      <td>CA</td>\n",
       "      <td>94112</td>\n",
       "      <td>place</td>\n",
       "      <td>Beautiful Victorian circa 1905 with high ceili...</td>\n",
       "      <td>3</td>\n",
       "      <td>3</td>\n",
       "      <td>1,875</td>\n",
       "      <td>None</td>\n",
       "      <td>Built 1905</td>\n",
       "      <td>Style  Victorian</td>\n",
       "      <td>Type Single Family Home</td>\n",
       "      <td>$930,000</td>\n",
       "      <td>None</td>\n",
       "    </tr>\n",
       "    <tr>\n",
       "      <th>1</th>\n",
       "      <td>(37.735253, -122.432332)</td>\n",
       "      <td>3045 Castro St</td>\n",
       "      <td>San Francisco</td>\n",
       "      <td>CA</td>\n",
       "      <td>94131</td>\n",
       "      <td>place</td>\n",
       "      <td>Beautifully enchanting Glen Park home w/ wonde...</td>\n",
       "      <td>2</td>\n",
       "      <td>1</td>\n",
       "      <td>2,265</td>\n",
       "      <td>1,193</td>\n",
       "      <td>Built 1910</td>\n",
       "      <td>Style  Traditional</td>\n",
       "      <td>Type Single Family Home</td>\n",
       "      <td>$1,249,000</td>\n",
       "      <td>None</td>\n",
       "    </tr>\n",
       "    <tr>\n",
       "      <th>2</th>\n",
       "      <td>(37.73024, -122.394956)</td>\n",
       "      <td>59 Reddy St</td>\n",
       "      <td>San Francisco</td>\n",
       "      <td>CA</td>\n",
       "      <td>94124</td>\n",
       "      <td>place</td>\n",
       "      <td>Great curb appeal welcomes you to this wonderf...</td>\n",
       "      <td>3</td>\n",
       "      <td>2</td>\n",
       "      <td>2,500</td>\n",
       "      <td>1,395</td>\n",
       "      <td>Built 1916</td>\n",
       "      <td>Style              Edwardian/Arts &amp; Crafts</td>\n",
       "      <td>Type Single Family Home</td>\n",
       "      <td>$899,000</td>\n",
       "      <td>None</td>\n",
       "    </tr>\n",
       "    <tr>\n",
       "      <th>3</th>\n",
       "      <td>(37.778982, -122.391752)</td>\n",
       "      <td>177 Townsend St Unit 425</td>\n",
       "      <td>San Francisco</td>\n",
       "      <td>CA</td>\n",
       "      <td>94107</td>\n",
       "      <td>place</td>\n",
       "      <td>2BR 2BA 1PKG 1Storage Large Private Terrace, c...</td>\n",
       "      <td>2</td>\n",
       "      <td>2</td>\n",
       "      <td>None</td>\n",
       "      <td>1,004</td>\n",
       "      <td>Built 2007</td>\n",
       "      <td>Style  Contemporary</td>\n",
       "      <td>Type Condo/Townhome/Row Home/Co-Op</td>\n",
       "      <td>$1,249,000</td>\n",
       "      <td>None</td>\n",
       "    </tr>\n",
       "    <tr>\n",
       "      <th>4</th>\n",
       "      <td>(37.744492, -122.501256)</td>\n",
       "      <td>2262 43rd Ave</td>\n",
       "      <td>San Francisco</td>\n",
       "      <td>CA</td>\n",
       "      <td>94116</td>\n",
       "      <td>place</td>\n",
       "      <td>Located in one of SF's most desirable and in d...</td>\n",
       "      <td>3</td>\n",
       "      <td>2</td>\n",
       "      <td>2,996</td>\n",
       "      <td>1,180</td>\n",
       "      <td>Built 1943</td>\n",
       "      <td>Style  Traditional</td>\n",
       "      <td>Type Single Family Home</td>\n",
       "      <td>$1,098,000</td>\n",
       "      <td>None</td>\n",
       "    </tr>\n",
       "  </tbody>\n",
       "</table>\n",
       "</div>"
      ],
      "text/plain": [
       "                 coordinate                   address           city state  \\\n",
       "0  (37.727131, -122.426165)              89 Naples St  San Francisco    CA   \n",
       "1  (37.735253, -122.432332)            3045 Castro St  San Francisco    CA   \n",
       "2   (37.73024, -122.394956)               59 Reddy St  San Francisco    CA   \n",
       "3  (37.778982, -122.391752)  177 Townsend St Unit 425  San Francisco    CA   \n",
       "4  (37.744492, -122.501256)             2262 43rd Ave  San Francisco    CA   \n",
       "\n",
       "  postal_code ad_type                                        description beds  \\\n",
       "0       94112   place  Beautiful Victorian circa 1905 with high ceili...    3   \n",
       "1       94131   place  Beautifully enchanting Glen Park home w/ wonde...    2   \n",
       "2       94124   place  Great curb appeal welcomes you to this wonderf...    3   \n",
       "3       94107   place  2BR 2BA 1PKG 1Storage Large Private Terrace, c...    2   \n",
       "4       94116   place  Located in one of SF's most desirable and in d...    3   \n",
       "\n",
       "  bath sqr_lot   sqft        year                                       style  \\\n",
       "0    3   1,875   None  Built 1905                            Style  Victorian   \n",
       "1    1   2,265  1,193  Built 1910                          Style  Traditional   \n",
       "2    2   2,500  1,395  Built 1916  Style              Edwardian/Arts & Crafts   \n",
       "3    2    None  1,004  Built 2007                         Style  Contemporary   \n",
       "4    2   2,996  1,180  Built 1943                          Style  Traditional   \n",
       "\n",
       "                        property_type       price currency  \n",
       "0             Type Single Family Home    $930,000     None  \n",
       "1             Type Single Family Home  $1,249,000     None  \n",
       "2             Type Single Family Home    $899,000     None  \n",
       "3  Type Condo/Townhome/Row Home/Co-Op  $1,249,000     None  \n",
       "4             Type Single Family Home  $1,098,000     None  "
      ]
     },
     "execution_count": 47,
     "metadata": {},
     "output_type": "execute_result"
    }
   ],
   "source": [
    "df.head()"
   ]
  },
  {
   "cell_type": "code",
   "execution_count": 66,
   "metadata": {},
   "outputs": [
    {
     "data": {
      "text/plain": [
       "231"
      ]
     },
     "execution_count": 66,
     "metadata": {},
     "output_type": "execute_result"
    }
   ],
   "source": [
    "len(data)"
   ]
  },
  {
   "cell_type": "code",
   "execution_count": 67,
   "metadata": {},
   "outputs": [
    {
     "data": {
      "text/plain": [
       "[7, 2]"
      ]
     },
     "execution_count": 67,
     "metadata": {},
     "output_type": "execute_result"
    }
   ],
   "source": [
    "cursor"
   ]
  },
  {
   "cell_type": "code",
   "execution_count": 49,
   "metadata": {},
   "outputs": [],
   "source": [
    "df.to_csv('data/san_francisco_-_ca.csv', index=False)"
   ]
  },
  {
   "cell_type": "code",
   "execution_count": null,
   "metadata": {},
   "outputs": [],
   "source": []
  }
 ],
 "metadata": {
  "kernelspec": {
   "display_name": "Python 3",
   "language": "python",
   "name": "python3"
  },
  "language_info": {
   "codemirror_mode": {
    "name": "ipython",
    "version": 3
   },
   "file_extension": ".py",
   "mimetype": "text/x-python",
   "name": "python",
   "nbconvert_exporter": "python",
   "pygments_lexer": "ipython3",
   "version": "3.7.4"
  }
 },
 "nbformat": 4,
 "nbformat_minor": 2
}
