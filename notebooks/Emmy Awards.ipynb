{
 "cells": [
  {
   "cell_type": "code",
   "execution_count": 1,
   "metadata": {},
   "outputs": [],
   "source": [
    "import requests\n",
    "import pandas as pd\n",
    "from bs4 import BeautifulSoup"
   ]
  },
  {
   "cell_type": "code",
   "execution_count": 2,
   "metadata": {},
   "outputs": [],
   "source": [
    "columns = ['id', 'year', 'category', 'nominee', 'staff', 'company', 'producer', 'win']\n",
    "url = 'https://www.emmys.com/awards/nominations/award-search?page={page}'"
   ]
  },
  {
   "cell_type": "code",
   "execution_count": null,
   "metadata": {},
   "outputs": [
    {
     "name": "stdout",
     "output_type": "stream",
     "text": [
      "0 2019\n",
      "67 2018\n",
      "134 2017\n",
      "200 2016\n",
      "261 2015\n",
      "320 2014\n",
      "378 2013\n",
      "434 2012\n",
      "488 2011\n",
      "540 2010\n",
      "594 2009\n",
      "646 2008\n",
      "695 2007\n",
      "742 2006\n",
      "789 2005\n",
      "834 2004\n"
     ]
    }
   ],
   "source": [
    "has_page = True\n",
    "page = 0\n",
    "id_ = 1\n",
    "last_year = 2000\n",
    "row_list = []\n",
    "error_list = []\n",
    "\n",
    "while has_page:\n",
    "    req = requests.get(url.format(page=page))\n",
    "    \n",
    "    if req.status_code == 200:\n",
    "        soup = BeautifulSoup(req.content, 'html.parser')\n",
    "        results = soup.find(class_='awards-search-page')\n",
    "        rows = results.find_all(class_='views-row')\n",
    "        for row in rows:\n",
    "            info = row.find_all('li')\n",
    "            \n",
    "            if len(info) < 3:\n",
    "                error_list.append((page, id_))\n",
    "                continue\n",
    "                \n",
    "            wrap = row.find(class_='wrap')\n",
    "            \n",
    "            emmy_category = wrap.h3.text  \n",
    "                \n",
    "            if row.find('ul', class_='winner'):\n",
    "                emmy_winner = True\n",
    "            else:\n",
    "                emmy_winner = False\n",
    "                \n",
    "            emmy_nominee = info[-3].text\n",
    "            emmy_company = info[-2].text\n",
    "            emmy_producer = info[-1].text\n",
    "            \n",
    "            if info[-4]:\n",
    "                emmy_staff = '; '.join([staff.text for staff in info[:-3] if staff.text != 'Nominee' if staff.text != 'Winner'])\n",
    "            \n",
    "            emmy_year = emmy_category[-4:]\n",
    "            emmy_category = emmy_category.replace(f' - {emmy_year}', '')\n",
    "            \n",
    "            row_list.append([id_, emmy_year, emmy_category, emmy_nominee, emmy_staff, emmy_company, emmy_producer, emmy_winner])\n",
    "            \n",
    "            id_ += 1\n",
    "            \n",
    "            if emmy_year != last_year:\n",
    "                last_year = emmy_year\n",
    "                print(page, emmy_year)\n",
    "    \n",
    "        page += 1\n",
    "            \n",
    "    else:\n",
    "        has_page = False\n",
    "        print(req.status_code)"
   ]
  },
  {
   "cell_type": "code",
   "execution_count": null,
   "metadata": {},
   "outputs": [],
   "source": [
    "df = pd.DataFrame(dict(zip(columns, row_list)), columns=columns)"
   ]
  },
  {
   "cell_type": "code",
   "execution_count": null,
   "metadata": {},
   "outputs": [],
   "source": [
    "len(row_list)"
   ]
  },
  {
   "cell_type": "code",
   "execution_count": null,
   "metadata": {},
   "outputs": [],
   "source": [
    "row_list[-1]"
   ]
  },
  {
   "cell_type": "code",
   "execution_count": null,
   "metadata": {},
   "outputs": [],
   "source": [
    "error_list"
   ]
  },
  {
   "cell_type": "code",
   "execution_count": null,
   "metadata": {},
   "outputs": [],
   "source": []
  }
 ],
 "metadata": {
  "kernelspec": {
   "display_name": "Python 3",
   "language": "python",
   "name": "python3"
  },
  "language_info": {
   "codemirror_mode": {
    "name": "ipython",
    "version": 3
   },
   "file_extension": ".py",
   "mimetype": "text/x-python",
   "name": "python",
   "nbconvert_exporter": "python",
   "pygments_lexer": "ipython3",
   "version": "3.7.4"
  }
 },
 "nbformat": 4,
 "nbformat_minor": 2
}
